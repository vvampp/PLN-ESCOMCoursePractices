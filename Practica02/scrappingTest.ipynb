{
 "cells": [
  {
   "cell_type": "code",
   "execution_count": 49,
   "id": "31673653-db80-4457-bd55-ad3744323db3",
   "metadata": {},
   "outputs": [],
   "source": [
    "import feedparser\n",
    "import pandas as pd\n",
    "import os"
   ]
  },
  {
   "cell_type": "code",
   "execution_count": 50,
   "id": "645b7bf8-cb6f-4157-b66a-33227146b3c5",
   "metadata": {},
   "outputs": [],
   "source": [
    "columns = ['Source', 'Title', 'Content', 'Section', 'URL', 'Date']\n",
    "csv_file = 'raw_data_corpus.csv'\n",
    "if not os.path.exists(csv_file):\n",
    "    df = pd.DataFrame(columns = columns)\n",
    "    df.to_csv(csv_file, sep='\\t', index=False)\n",
    "else:\n",
    "    df = pd.read_csv(csv_file, sep='\\t')"
   ]
  },
  {
   "cell_type": "code",
   "execution_count": 51,
   "id": "2c85f3c9-ab63-4541-9b13-53dc3ce542f3",
   "metadata": {},
   "outputs": [],
   "source": [
    "jsection_names = ['Deportes', 'Economía', 'Ciencia', 'Cultura']\n",
    "esection_names = ['Economia','Ciencia']"
   ]
  },
  {
   "cell_type": "code",
   "execution_count": 52,
   "id": "62b96138-804b-46db-80e7-01a217bed6b9",
   "metadata": {},
   "outputs": [],
   "source": [
    "jDeportes = feedparser.parse('https://www.jornada.com.mx/rss/deportes.xml?v=1')\n",
    "jEconomia = feedparser.parse('https://www.jornada.com.mx/rss/economia.xml?v=1')\n",
    "jCiencia = feedparser.parse('https://www.jornada.com.mx/rss/ciencias.xml?v=1')\n",
    "jCultura = feedparser.parse('https://www.jornada.com.mx/rss/cultura.xml?v=1')\n",
    "eEconomia = feedparser.parse('https://expansion.mx/rss/economia')\n",
    "eCiencia = feedparser.parse('https://expansion.mx/rss/tecnologia')"
   ]
  },
  {
   "cell_type": "code",
   "execution_count": 53,
   "id": "7d1bc811-466c-458e-a7d1-0d2e85919595",
   "metadata": {},
   "outputs": [],
   "source": [
    "jSections= [jDeportes,jEconomia,jCiencia,jCultura]\n",
    "eSections = [eEconomia,eCiencia]"
   ]
  },
  {
   "cell_type": "code",
   "execution_count": 54,
   "id": "4b14506d-3c3c-4075-935e-40fbf1876141",
   "metadata": {},
   "outputs": [],
   "source": [
    "existing_news = df['Title'].tolist()"
   ]
  },
  {
   "cell_type": "code",
   "execution_count": 55,
   "id": "4e88e48f-70aa-4153-995c-8ec46e904b62",
   "metadata": {},
   "outputs": [],
   "source": [
    "jnew_rows = []\n",
    "enew_rows=[]\n",
    "newEntries = 0"
   ]
  },
  {
   "cell_type": "code",
   "execution_count": 56,
   "id": "521a5633-bfe9-492d-991c-defa7e7c0831",
   "metadata": {},
   "outputs": [],
   "source": [
    "for i, section in enumerate(jSections):\n",
    "    for entry in section.entries:\n",
    "        if entry.title not in existing_news:\n",
    "            new_row = {\n",
    "                'Source': entry.get('Source', 'La Jornada'),\n",
    "                'Title' : entry.title,\n",
    "                'Content': entry.description,\n",
    "                'Section': jsection_names[i],\n",
    "                'URL': entry.link,\n",
    "                'Date': entry.published \n",
    "            }\n",
    "            newEntries += 1\n",
    "            jnew_rows.append(new_row)"
   ]
  },
  {
   "cell_type": "code",
   "execution_count": 57,
   "id": "13e4d57a-1468-4b5e-a31f-ef0628c436ec",
   "metadata": {},
   "outputs": [],
   "source": [
    "new_data = pd.DataFrame(jnew_rows, columns = columns)\n",
    "df = pd.concat([df, new_data], ignore_index=True)\n",
    "df.to_csv(csv_file, sep = \"\\t\", index = False)"
   ]
  },
  {
   "cell_type": "code",
   "execution_count": 58,
   "id": "8ab9d5da-dcd9-40ff-9092-918ee423dfc2",
   "metadata": {},
   "outputs": [],
   "source": [
    "for i, section in enumerate(eSections):\n",
    "    for entry in section.entries:\n",
    "        if entry.title not in existing_news:\n",
    "            new_row = {\n",
    "                'Source': entry.get('Source', 'Expansión'),\n",
    "                'Title': entry.title,\n",
    "                'Content': entry.description,\n",
    "                'Section': esection_names[i],\n",
    "                'URL': entry.link,\n",
    "                'Date': entry.published\n",
    "            }\n",
    "            newEntries += 1\n",
    "        enew_rows.append(new_row)"
   ]
  },
  {
   "cell_type": "code",
   "execution_count": 59,
   "id": "2fbc2358-bd0f-4e9a-85a1-65f6ce2d27f1",
   "metadata": {},
   "outputs": [],
   "source": [
    "new_data = pd.DataFrame(enew_rows, columns = columns)\n",
    "df = pd.concat([df, new_data], ignore_index=True)\n",
    "df.to_csv(csv_file, sep = \"\\t\", index = False)"
   ]
  },
  {
   "cell_type": "code",
   "execution_count": 60,
   "id": "877cbba7-391e-4784-9b6a-7850a7b8c39d",
   "metadata": {},
   "outputs": [
    {
     "name": "stdout",
     "output_type": "stream",
     "text": [
      "124\n"
     ]
    }
   ],
   "source": [
    "print(\"new entries: \" newEntries)"
   ]
  },
  {
   "cell_type": "code",
   "execution_count": null,
   "id": "9f82d1fb-bf81-43e4-b4ee-61ed45d43003",
   "metadata": {},
   "outputs": [],
   "source": []
  }
 ],
 "metadata": {
  "kernelspec": {
   "display_name": "Python 3 (ipykernel)",
   "language": "python",
   "name": "python3"
  },
  "language_info": {
   "codemirror_mode": {
    "name": "ipython",
    "version": 3
   },
   "file_extension": ".py",
   "mimetype": "text/x-python",
   "name": "python",
   "nbconvert_exporter": "python",
   "pygments_lexer": "ipython3",
   "version": "3.12.2"
  }
 },
 "nbformat": 4,
 "nbformat_minor": 5
}
